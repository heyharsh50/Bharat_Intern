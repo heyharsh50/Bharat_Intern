{
 "cells": [
  {
   "cell_type": "code",
   "execution_count": 2,
   "id": "5f3600c8-88a7-4063-8366-7018c18c5d2d",
   "metadata": {},
   "outputs": [
    {
     "name": "stdout",
     "output_type": "stream",
     "text": [
      "Requirement already satisfied: googletrans==4.0.0-rc1 in c:\\users\\harsh raj\\appdata\\roaming\\python\\python311\\site-packages (4.0.0rc1)\n",
      "Requirement already satisfied: httpx==0.13.3 in c:\\users\\harsh raj\\appdata\\roaming\\python\\python311\\site-packages (from googletrans==4.0.0-rc1) (0.13.3)\n",
      "Requirement already satisfied: certifi in c:\\users\\harsh raj\\appdata\\roaming\\python\\python311\\site-packages (from httpx==0.13.3->googletrans==4.0.0-rc1) (2022.12.7)\n",
      "Requirement already satisfied: hstspreload in c:\\users\\harsh raj\\appdata\\roaming\\python\\python311\\site-packages (from httpx==0.13.3->googletrans==4.0.0-rc1) (2023.1.1)\n",
      "Requirement already satisfied: sniffio in c:\\users\\harsh raj\\appdata\\roaming\\python\\python311\\site-packages (from httpx==0.13.3->googletrans==4.0.0-rc1) (1.3.0)\n",
      "Requirement already satisfied: chardet==3.* in c:\\users\\harsh raj\\appdata\\roaming\\python\\python311\\site-packages (from httpx==0.13.3->googletrans==4.0.0-rc1) (3.0.4)\n",
      "Requirement already satisfied: idna==2.* in c:\\users\\harsh raj\\appdata\\roaming\\python\\python311\\site-packages (from httpx==0.13.3->googletrans==4.0.0-rc1) (2.10)\n",
      "Requirement already satisfied: rfc3986<2,>=1.3 in c:\\users\\harsh raj\\appdata\\roaming\\python\\python311\\site-packages (from httpx==0.13.3->googletrans==4.0.0-rc1) (1.5.0)\n",
      "Requirement already satisfied: httpcore==0.9.* in c:\\users\\harsh raj\\appdata\\roaming\\python\\python311\\site-packages (from httpx==0.13.3->googletrans==4.0.0-rc1) (0.9.1)\n",
      "Requirement already satisfied: h11<0.10,>=0.8 in c:\\users\\harsh raj\\appdata\\roaming\\python\\python311\\site-packages (from httpcore==0.9.*->httpx==0.13.3->googletrans==4.0.0-rc1) (0.9.0)\n",
      "Requirement already satisfied: h2==3.* in c:\\users\\harsh raj\\appdata\\roaming\\python\\python311\\site-packages (from httpcore==0.9.*->httpx==0.13.3->googletrans==4.0.0-rc1) (3.2.0)\n",
      "Requirement already satisfied: hyperframe<6,>=5.2.0 in c:\\users\\harsh raj\\appdata\\roaming\\python\\python311\\site-packages (from h2==3.*->httpcore==0.9.*->httpx==0.13.3->googletrans==4.0.0-rc1) (5.2.0)\n",
      "Requirement already satisfied: hpack<4,>=3.0 in c:\\users\\harsh raj\\appdata\\roaming\\python\\python311\\site-packages (from h2==3.*->httpcore==0.9.*->httpx==0.13.3->googletrans==4.0.0-rc1) (3.0.0)\n",
      "Language Translator App\n",
      "Supported Languages:\n",
      "English: en, Spanish: es, French: fr, German: de, Hindi: hi, Chinese: zh-CN\n"
     ]
    },
    {
     "name": "stdin",
     "output_type": "stream",
     "text": [
      "Enter the source language code (e.g., en for English):  English\n",
      "Enter the destination language code (e.g., fr for French):  French\n",
      "Enter the text to translate:  hello \n"
     ]
    },
    {
     "name": "stdout",
     "output_type": "stream",
     "text": [
      "Translated Text:\n",
      "Bonjour\n"
     ]
    }
   ],
   "source": [
    "#!/usr/bin/env python\n",
    "# coding: utf-8\n",
    "\n",
    "# # BHARAT INTERN ARTIFICIAL INTELLIGENCE INTERNSHIP\n",
    "\n",
    "# # TASK 3: TRANSLATOR APP\n",
    "\n",
    "\n",
    "# In[4]:\n",
    "\n",
    "\n",
    "get_ipython().system('pip install googletrans==4.0.0-rc1')\n",
    "\n",
    "\n",
    "# In[5]:\n",
    "\n",
    "\n",
    "from googletrans import Translator\n",
    "\n",
    "def translate_text(text, src_lang, dest_lang):\n",
    "    translator = Translator()\n",
    "    translation = translator.translate(text, src=src_lang, dest=dest_lang)\n",
    "    return translation.text\n",
    "\n",
    "def main():\n",
    "    print(\"Language Translator App\")\n",
    "    print(\"Supported Languages:\")\n",
    "    print(\"English: en, Spanish: es, French: fr, German: de, Hindi: hi, Chinese: zh-CN\")\n",
    "    \n",
    "    src_lang = input(\"Enter the source language code (e.g., en for English): \")\n",
    "    dest_lang = input(\"Enter the destination language code (e.g., fr for French): \")\n",
    "    text_to_translate = input(\"Enter the text to translate: \")\n",
    "\n",
    "    translated_text = translate_text(text_to_translate, src_lang, dest_lang)\n",
    "    print(\"Translated Text:\")\n",
    "    print(translated_text)\n",
    "\n",
    "if __name__ == \"__main__\":\n",
    "    main()\n",
    "\n",
    "\n",
    "#Thank_you"
   ]
  },
  {
   "cell_type": "code",
   "execution_count": null,
   "id": "6339fa30-ced5-4556-9c57-44c4d7eee3be",
   "metadata": {},
   "outputs": [],
   "source": []
  }
 ],
 "metadata": {
  "kernelspec": {
   "display_name": "Python 3 (ipykernel)",
   "language": "python",
   "name": "python3"
  },
  "language_info": {
   "codemirror_mode": {
    "name": "ipython",
    "version": 3
   },
   "file_extension": ".py",
   "mimetype": "text/x-python",
   "name": "python",
   "nbconvert_exporter": "python",
   "pygments_lexer": "ipython3",
   "version": "3.11.3"
  }
 },
 "nbformat": 4,
 "nbformat_minor": 5
}
